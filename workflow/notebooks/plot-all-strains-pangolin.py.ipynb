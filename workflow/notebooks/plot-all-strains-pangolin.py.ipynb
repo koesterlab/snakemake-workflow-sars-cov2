{
 "cells": [
  {
   "cell_type": "code",
   "execution_count": 2,
   "metadata": {},
   "outputs": [],
   "source": [
    "import pandas as pd\n",
    "import altair as alt\n",
    "\n",
    "all_calls = []\n",
    "\n",
    "for f in snakemake.input:\n",
    "    calls = pd.read_csv(f)\n",
    "    calls = calls[calls[\"status\"] != \"fail\"]\n",
    "    all_calls.append(calls)\n",
    "    \n",
    "all_calls = pd.concat(all_calls)\n",
    "all_calls[\"count\"] = 1\n",
    "\n",
    "alt.Chart(all_calls).mark_bar().encode(\n",
    "    x=alt.X(\"sum(count):Q\", title=\"count\"),\n",
    "    y=alt.Y(\"lineage\", title=\"\"),\n",
    "    color=alt.Color(\"probability\", scale=alt.Scale(domain=[0.0,1.0]))\n",
    ").save(snakemake.output[0])"
   ]
  }
 ],
 "metadata": {
  "kernelspec": {
   "display_name": "Python 3",
   "language": "python",
   "name": "python3"
  },
  "language_info": {
   "codemirror_mode": {
    "name": "ipython",
    "version": 3
   },
   "file_extension": ".py",
   "mimetype": "text/x-python",
   "name": "python",
   "nbconvert_exporter": "python",
   "pygments_lexer": "ipython3",
   "version": "3.9.1"
  }
 },
 "nbformat": 4,
 "nbformat_minor": 4
}
