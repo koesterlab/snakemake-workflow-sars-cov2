{
 "cells": [
  {
   "cell_type": "code",
   "execution_count": 24,
   "metadata": {},
   "outputs": [],
   "source": [
    "from collections import defaultdict\n",
    "\n",
    "import pandas as pd\n",
    "import altair as alt\n",
    "\n",
    "mode = snakemake.wildcards.get(\"mode\", \"major\")\n",
    "\n",
    "strains = defaultdict(int)\n",
    "\n",
    "for f in snakemake.input:\n",
    "    calls = pd.read_csv(f, sep=\"\\t\")\n",
    "    if mode == \"major\":\n",
    "        major_strain = calls[\"target_id\"].iloc[calls[\"fraction\"].idxmax()]\n",
    "        strains[major_strain] += 1\n",
    "    else:\n",
    "        for strain in calls[\"target_id\"]:\n",
    "            strains[strain] += 1\n",
    "\n",
    "strains = pd.DataFrame({\"strain\": strains.keys(), \"count\": strains.values()})\n",
    "        \n",
    "        \n",
    "alt.Chart(strains).mark_bar().encode(\n",
    "    x=\"count:O\",\n",
    "    y=alt.Y(\"strain:N\", title=\"\"),\n",
    ").save(snakemake.output[0])"
   ]
  }
 ],
 "metadata": {
  "kernelspec": {
   "display_name": "Python 3",
   "language": "python",
   "name": "python3"
  },
  "language_info": {
   "codemirror_mode": {
    "name": "ipython",
    "version": 3
   },
   "file_extension": ".py",
   "mimetype": "text/x-python",
   "name": "python",
   "nbconvert_exporter": "python",
   "pygments_lexer": "ipython3",
   "version": "3.9.1"
  }
 },
 "nbformat": 4,
 "nbformat_minor": 4
}
