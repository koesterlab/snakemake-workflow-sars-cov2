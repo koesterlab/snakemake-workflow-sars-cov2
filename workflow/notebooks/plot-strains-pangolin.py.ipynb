{
 "cells": [
  {
   "cell_type": "code",
   "execution_count": 2,
   "metadata": {},
   "outputs": [],
   "source": [
    "import pandas as pd\n",
    "import altair as alt\n",
    "\n",
    "calls = pd.read_csv(snakemake.input[0])\n",
    "calls = calls.loc[calls[\"status\"] != \"fail\"]\n",
    "\n",
    "alt.Chart(calls).mark_bar().encode(\n",
    "    y=alt.Y(\"lineage:N\", title=\"\"),\n",
    "    x=\"probability\"\n",
    ").save(snakemake.output[0])"
   ]
  }
 ],
 "metadata": {
  "kernelspec": {
   "display_name": "Python 3",
   "language": "python",
   "name": "python3"
  },
  "language_info": {
   "codemirror_mode": {
    "name": "ipython",
    "version": 3
   },
   "file_extension": ".py",
   "mimetype": "text/x-python",
   "name": "python",
   "nbconvert_exporter": "python",
   "pygments_lexer": "ipython3",
   "version": "3.9.1"
  }
 },
 "nbformat": 4,
 "nbformat_minor": 4
}
