{
 "cells": [
  {
   "cell_type": "code",
   "execution_count": 2,
   "metadata": {},
   "outputs": [],
   "source": [
    "import pandas as pd\n",
    "import altair as alt\n",
    "\n",
    "min_fraction = snakemake.params.get(\"min_fraction\", 0.01)\n",
    "\n",
    "calls = pd.read_csv(snakemake.input[0], sep=\"\\t\")\n",
    "\n",
    "bars = alt.Chart(calls).mark_bar().encode(\n",
    "    y=alt.Y(\"target_id:N\", title=\"\"),\n",
    "    x=\"fraction:Q\",\n",
    ")\n",
    "\n",
    "text = bars.mark_text(\n",
    "    align='left',\n",
    "    baseline='middle',\n",
    "    dx=3  # Nudges text to right so it doesn't appear on top of the bar\n",
    ").encode(\n",
    "    text='est_counts:Q'\n",
    ")\n",
    "\n",
    "(bars + text).save(snakemake.output[0])"
   ]
  }
 ],
 "metadata": {
  "kernelspec": {
   "display_name": "Python 3",
   "language": "python",
   "name": "python3"
  },
  "language_info": {
   "codemirror_mode": {
    "name": "ipython",
    "version": 3
   },
   "file_extension": ".py",
   "mimetype": "text/x-python",
   "name": "python",
   "nbconvert_exporter": "python",
   "pygments_lexer": "ipython3",
   "version": "3.9.1"
  }
 },
 "nbformat": 4,
 "nbformat_minor": 4
}
